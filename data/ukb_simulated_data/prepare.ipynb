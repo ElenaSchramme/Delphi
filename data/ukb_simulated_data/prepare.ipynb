{
 "cells": [
  {
   "cell_type": "code",
   "execution_count": 1,
   "id": "1b797f7b-c193-45cd-9fd4-6ed30e380c3f",
   "metadata": {
    "tags": []
   },
   "outputs": [],
   "source": [
    "import os\n",
    "import pickle\n",
    "import requests\n",
    "import numpy as np\n",
    "import pandas as pd"
   ]
  },
  {
   "cell_type": "code",
   "execution_count": 2,
   "id": "da4019ed-b474-4c7b-bf5d-182dffd174f8",
   "metadata": {
    "tags": []
   },
   "outputs": [],
   "source": [
    "data = np.genfromtxt('fields_by_age.txt.gz', dtype=np.uint32, delimiter='\\t')"
   ]
  },
  {
   "cell_type": "code",
   "execution_count": 3,
   "id": "14132948-a5b2-46a9-bc17-e13ef4ee6db0",
   "metadata": {
    "tags": []
   },
   "outputs": [
    {
     "data": {
      "text/plain": [
       "(5295794, 3)"
      ]
     },
     "execution_count": 3,
     "metadata": {},
     "output_type": "execute_result"
    }
   ],
   "source": [
    "data.shape"
   ]
  },
  {
   "cell_type": "code",
   "execution_count": 4,
   "id": "75285ee6-7443-483f-b4fa-034600a42c64",
   "metadata": {
    "tags": []
   },
   "outputs": [
    {
     "data": {
      "text/plain": [
       "array([[    1, 19868,   198],\n",
       "       [    1, 21131,   263],\n",
       "       [    1, 20510,   293],\n",
       "       [    1, 19169,   299],\n",
       "       [    1, 20510,   301],\n",
       "       [    1, 21131,   370],\n",
       "       [    1, 20758,   382],\n",
       "       [    1, 19169,   806],\n",
       "       [    1, 21131,   911],\n",
       "       [    2, 27528,   293]], dtype=uint32)"
      ]
     },
     "execution_count": 4,
     "metadata": {},
     "output_type": "execute_result"
    }
   ],
   "source": [
    "data[:10]"
   ]
  },
  {
   "cell_type": "code",
   "execution_count": 5,
   "id": "39c12abe-a0bc-4f35-9314-8cf79ccbe747",
   "metadata": {
    "tags": []
   },
   "outputs": [
    {
     "data": {
      "text/plain": [
       "1129"
      ]
     },
     "execution_count": 5,
     "metadata": {},
     "output_type": "execute_result"
    }
   ],
   "source": [
    "n_disease = data[:,2].max()\n",
    "n_disease"
   ]
  },
  {
   "cell_type": "code",
   "execution_count": 6,
   "id": "5e28d6c5-a22b-4bef-b444-6c842b5078e3",
   "metadata": {
    "tags": []
   },
   "outputs": [
    {
     "data": {
      "text/html": [
       "<div>\n",
       "<style scoped>\n",
       "    .dataframe tbody tr th:only-of-type {\n",
       "        vertical-align: middle;\n",
       "    }\n",
       "\n",
       "    .dataframe tbody tr th {\n",
       "        vertical-align: top;\n",
       "    }\n",
       "\n",
       "    .dataframe thead th {\n",
       "        text-align: right;\n",
       "    }\n",
       "</style>\n",
       "<table border=\"1\" class=\"dataframe\">\n",
       "  <thead>\n",
       "    <tr style=\"text-align: right;\">\n",
       "      <th></th>\n",
       "      <th>patient</th>\n",
       "      <th>f.31.0.0</th>\n",
       "    </tr>\n",
       "  </thead>\n",
       "  <tbody>\n",
       "    <tr>\n",
       "      <th>0</th>\n",
       "      <td>1</td>\n",
       "      <td>0.0</td>\n",
       "    </tr>\n",
       "    <tr>\n",
       "      <th>1</th>\n",
       "      <td>2</td>\n",
       "      <td>0.0</td>\n",
       "    </tr>\n",
       "    <tr>\n",
       "      <th>2</th>\n",
       "      <td>3</td>\n",
       "      <td>1.0</td>\n",
       "    </tr>\n",
       "    <tr>\n",
       "      <th>3</th>\n",
       "      <td>4</td>\n",
       "      <td>1.0</td>\n",
       "    </tr>\n",
       "    <tr>\n",
       "      <th>4</th>\n",
       "      <td>5</td>\n",
       "      <td>1.0</td>\n",
       "    </tr>\n",
       "    <tr>\n",
       "      <th>...</th>\n",
       "      <td>...</td>\n",
       "      <td>...</td>\n",
       "    </tr>\n",
       "    <tr>\n",
       "      <th>502485</th>\n",
       "      <td>502486</td>\n",
       "      <td>0.0</td>\n",
       "    </tr>\n",
       "    <tr>\n",
       "      <th>502486</th>\n",
       "      <td>502487</td>\n",
       "      <td>1.0</td>\n",
       "    </tr>\n",
       "    <tr>\n",
       "      <th>502487</th>\n",
       "      <td>502488</td>\n",
       "      <td>0.0</td>\n",
       "    </tr>\n",
       "    <tr>\n",
       "      <th>502488</th>\n",
       "      <td>502489</td>\n",
       "      <td>1.0</td>\n",
       "    </tr>\n",
       "    <tr>\n",
       "      <th>502489</th>\n",
       "      <td>502490</td>\n",
       "      <td>0.0</td>\n",
       "    </tr>\n",
       "  </tbody>\n",
       "</table>\n",
       "<p>502490 rows × 2 columns</p>\n",
       "</div>"
      ],
      "text/plain": [
       "        patient  f.31.0.0\n",
       "0             1       0.0\n",
       "1             2       0.0\n",
       "2             3       1.0\n",
       "3             4       1.0\n",
       "4             5       1.0\n",
       "...         ...       ...\n",
       "502485   502486       0.0\n",
       "502486   502487       1.0\n",
       "502487   502488       0.0\n",
       "502488   502489       1.0\n",
       "502489   502490       0.0\n",
       "\n",
       "[502490 rows x 2 columns]"
      ]
     },
     "execution_count": 6,
     "metadata": {},
     "output_type": "execute_result"
    }
   ],
   "source": [
    "sex = pd.read_csv('sex.txt', sep='\\t').iloc[:-1,:]\n",
    "sex"
   ]
  },
  {
   "cell_type": "code",
   "execution_count": 8,
   "id": "d8ece7c4-451e-4e73-b365-47e2286bbd4b",
   "metadata": {
    "tags": []
   },
   "outputs": [],
   "source": [
    "data = np.vstack([data + np.array([0,0,2]), np.array([sex.patient.to_numpy(), np.repeat(0, sex.shape[0]), 1+sex['f.31.0.0'].to_numpy().astype(np.uint32)]).T])"
   ]
  },
  {
   "cell_type": "code",
   "execution_count": 9,
   "id": "1a2a1f9f-0070-4c1d-979e-c00476bc9f94",
   "metadata": {
    "tags": []
   },
   "outputs": [],
   "source": [
    "n_disease = n_disease+2"
   ]
  },
  {
   "cell_type": "code",
   "execution_count": 10,
   "id": "9477b796-92a8-4fe5-9532-141209580f75",
   "metadata": {
    "tags": []
   },
   "outputs": [
    {
     "data": {
      "text/plain": [
       "array([[     1,  19868,    200],\n",
       "       [     1,  21131,    265],\n",
       "       [     1,  20510,    295],\n",
       "       ...,\n",
       "       [502488,      0,      1],\n",
       "       [502489,      0,      2],\n",
       "       [502490,      0,      1]])"
      ]
     },
     "execution_count": 10,
     "metadata": {},
     "output_type": "execute_result"
    }
   ],
   "source": [
    "data"
   ]
  },
  {
   "cell_type": "code",
   "execution_count": 11,
   "id": "3b8e23c2-f860-4180-ba06-1ee05cf45106",
   "metadata": {
    "tags": []
   },
   "outputs": [],
   "source": [
    "cancers = pd.read_csv('cancers.txt', sep='\\t')\n",
    "cancers['cancer'] = pd.Categorical(cancers['f.40006.0.0'].str.slice(0,3))"
   ]
  },
  {
   "cell_type": "code",
   "execution_count": 12,
   "id": "569fff36-9a4b-499f-a80d-51308559a422",
   "metadata": {
    "tags": []
   },
   "outputs": [],
   "source": [
    "n_cancer = len(cancers.cancer.cat.categories)"
   ]
  },
  {
   "cell_type": "code",
   "execution_count": 13,
   "id": "99c6ab3e-8ccd-494a-a2a5-c53c50402e69",
   "metadata": {
    "tags": []
   },
   "outputs": [
    {
     "data": {
      "text/html": [
       "<div>\n",
       "<style scoped>\n",
       "    .dataframe tbody tr th:only-of-type {\n",
       "        vertical-align: middle;\n",
       "    }\n",
       "\n",
       "    .dataframe tbody tr th {\n",
       "        vertical-align: top;\n",
       "    }\n",
       "\n",
       "    .dataframe thead th {\n",
       "        text-align: right;\n",
       "    }\n",
       "</style>\n",
       "<table border=\"1\" class=\"dataframe\">\n",
       "  <thead>\n",
       "    <tr style=\"text-align: right;\">\n",
       "      <th></th>\n",
       "      <th>patient</th>\n",
       "      <th>f.40006.0.0</th>\n",
       "      <th>aod</th>\n",
       "      <th>cancer</th>\n",
       "    </tr>\n",
       "  </thead>\n",
       "  <tbody>\n",
       "    <tr>\n",
       "      <th>15</th>\n",
       "      <td>69</td>\n",
       "      <td>NaN</td>\n",
       "      <td>13995</td>\n",
       "      <td>NaN</td>\n",
       "    </tr>\n",
       "    <tr>\n",
       "      <th>16</th>\n",
       "      <td>70</td>\n",
       "      <td>C504</td>\n",
       "      <td>23717</td>\n",
       "      <td>C50</td>\n",
       "    </tr>\n",
       "    <tr>\n",
       "      <th>17</th>\n",
       "      <td>71</td>\n",
       "      <td>NaN</td>\n",
       "      <td>14519</td>\n",
       "      <td>NaN</td>\n",
       "    </tr>\n",
       "  </tbody>\n",
       "</table>\n",
       "</div>"
      ],
      "text/plain": [
       "    patient f.40006.0.0    aod cancer\n",
       "15       69         NaN  13995    NaN\n",
       "16       70        C504  23717    C50\n",
       "17       71         NaN  14519    NaN"
      ]
     },
     "execution_count": 13,
     "metadata": {},
     "output_type": "execute_result"
    }
   ],
   "source": [
    "cancers.iloc[15:18,:]"
   ]
  },
  {
   "cell_type": "code",
   "execution_count": 14,
   "id": "a49ca751-3e69-42d9-829f-eca3da66aa53",
   "metadata": {
    "tags": []
   },
   "outputs": [],
   "source": [
    "data = np.vstack([data, np.array([cancers.patient.to_numpy(), cancers.aod.to_numpy(), cancers.cancer.cat.codes.to_numpy()+2+n_disease]).T])"
   ]
  },
  {
   "cell_type": "code",
   "execution_count": 15,
   "id": "c9d01f4b-188b-4a7c-bee1-0843accae5df",
   "metadata": {
    "tags": []
   },
   "outputs": [
    {
     "data": {
      "text/html": [
       "<div>\n",
       "<style scoped>\n",
       "    .dataframe tbody tr th:only-of-type {\n",
       "        vertical-align: middle;\n",
       "    }\n",
       "\n",
       "    .dataframe tbody tr th {\n",
       "        vertical-align: top;\n",
       "    }\n",
       "\n",
       "    .dataframe thead th {\n",
       "        text-align: right;\n",
       "    }\n",
       "</style>\n",
       "<table border=\"1\" class=\"dataframe\">\n",
       "  <thead>\n",
       "    <tr style=\"text-align: right;\">\n",
       "      <th></th>\n",
       "      <th>patient</th>\n",
       "      <th>death</th>\n",
       "      <th>aod</th>\n",
       "    </tr>\n",
       "  </thead>\n",
       "  <tbody>\n",
       "    <tr>\n",
       "      <th>0</th>\n",
       "      <td>47</td>\n",
       "      <td>1</td>\n",
       "      <td>25673</td>\n",
       "    </tr>\n",
       "    <tr>\n",
       "      <th>1</th>\n",
       "      <td>61</td>\n",
       "      <td>1</td>\n",
       "      <td>25206</td>\n",
       "    </tr>\n",
       "    <tr>\n",
       "      <th>2</th>\n",
       "      <td>69</td>\n",
       "      <td>1</td>\n",
       "      <td>24969</td>\n",
       "    </tr>\n",
       "    <tr>\n",
       "      <th>3</th>\n",
       "      <td>88</td>\n",
       "      <td>1</td>\n",
       "      <td>28852</td>\n",
       "    </tr>\n",
       "    <tr>\n",
       "      <th>4</th>\n",
       "      <td>105</td>\n",
       "      <td>1</td>\n",
       "      <td>23134</td>\n",
       "    </tr>\n",
       "    <tr>\n",
       "      <th>...</th>\n",
       "      <td>...</td>\n",
       "      <td>...</td>\n",
       "      <td>...</td>\n",
       "    </tr>\n",
       "    <tr>\n",
       "      <th>30198</th>\n",
       "      <td>502431</td>\n",
       "      <td>1</td>\n",
       "      <td>27769</td>\n",
       "    </tr>\n",
       "    <tr>\n",
       "      <th>30199</th>\n",
       "      <td>502435</td>\n",
       "      <td>1</td>\n",
       "      <td>29866</td>\n",
       "    </tr>\n",
       "    <tr>\n",
       "      <th>30200</th>\n",
       "      <td>502443</td>\n",
       "      <td>1</td>\n",
       "      <td>22688</td>\n",
       "    </tr>\n",
       "    <tr>\n",
       "      <th>30201</th>\n",
       "      <td>502457</td>\n",
       "      <td>1</td>\n",
       "      <td>28549</td>\n",
       "    </tr>\n",
       "    <tr>\n",
       "      <th>30202</th>\n",
       "      <td>502489</td>\n",
       "      <td>1</td>\n",
       "      <td>24934</td>\n",
       "    </tr>\n",
       "  </tbody>\n",
       "</table>\n",
       "<p>30203 rows × 3 columns</p>\n",
       "</div>"
      ],
      "text/plain": [
       "       patient  death    aod\n",
       "0           47      1  25673\n",
       "1           61      1  25206\n",
       "2           69      1  24969\n",
       "3           88      1  28852\n",
       "4          105      1  23134\n",
       "...        ...    ...    ...\n",
       "30198   502431      1  27769\n",
       "30199   502435      1  29866\n",
       "30200   502443      1  22688\n",
       "30201   502457      1  28549\n",
       "30202   502489      1  24934\n",
       "\n",
       "[30203 rows x 3 columns]"
      ]
     },
     "execution_count": 15,
     "metadata": {},
     "output_type": "execute_result"
    }
   ],
   "source": [
    "deaths = pd.read_csv('death.txt', sep='\\t')\n",
    "deaths"
   ]
  },
  {
   "cell_type": "code",
   "execution_count": 16,
   "id": "fd37151f-e59b-4a6f-9234-7b9f31a63349",
   "metadata": {
    "tags": []
   },
   "outputs": [],
   "source": [
    "data = np.vstack([data, np.array([deaths.patient.to_numpy(), deaths.aod.to_numpy(), deaths.death+1+n_disease+n_cancer]).T])"
   ]
  },
  {
   "cell_type": "code",
   "execution_count": 17,
   "id": "6552eb94-009b-46c9-a401-5cd21e65dba6",
   "metadata": {
    "tags": []
   },
   "outputs": [
    {
     "data": {
      "text/plain": [
       "array([[     1,  19868,    200],\n",
       "       [     1,  21131,    265],\n",
       "       [     1,  20510,    295],\n",
       "       ...,\n",
       "       [502443,  22688,   1259],\n",
       "       [502457,  28549,   1259],\n",
       "       [502489,  24934,   1259]])"
      ]
     },
     "execution_count": 17,
     "metadata": {},
     "output_type": "execute_result"
    }
   ],
   "source": [
    "data"
   ]
  },
  {
   "cell_type": "code",
   "execution_count": 18,
   "id": "fb3815c4-0dfb-4405-92e4-cd970dd627a0",
   "metadata": {
    "tags": []
   },
   "outputs": [
    {
     "data": {
      "text/plain": [
       "4294954573"
      ]
     },
     "execution_count": 18,
     "metadata": {},
     "output_type": "execute_result"
    }
   ],
   "source": [
    "data.max()"
   ]
  },
  {
   "cell_type": "code",
   "execution_count": 19,
   "id": "3ca9cdf9-25c6-4ba4-9437-c9685f982127",
   "metadata": {
    "tags": []
   },
   "outputs": [],
   "source": [
    "data= data[np.argsort(data[:,0] + data[:,1].astype('float')/100000 + (data[:,2]==data[:,2].max()))]"
   ]
  },
  {
   "cell_type": "code",
   "execution_count": 20,
   "id": "092c636a-cb27-4cbb-9582-89a41711cb72",
   "metadata": {
    "tags": []
   },
   "outputs": [
    {
     "data": {
      "text/plain": [
       "array([[         1,          0,          1],\n",
       "       [         1,      17900,       1172],\n",
       "       [         1,      19169,        808],\n",
       "       ...,\n",
       "       [    501663, 4294950190,        715],\n",
       "       [    502242, 4294953814,        896],\n",
       "       [    502334, 4294947970,        879]])"
      ]
     },
     "execution_count": 20,
     "metadata": {},
     "output_type": "execute_result"
    }
   ],
   "source": [
    "data"
   ]
  },
  {
   "cell_type": "code",
   "execution_count": 21,
   "id": "233c0a64-209f-404d-be58-7c7240f7e737",
   "metadata": {
    "tags": []
   },
   "outputs": [
    {
     "data": {
      "text/plain": [
       "4294954573"
      ]
     },
     "execution_count": 21,
     "metadata": {},
     "output_type": "execute_result"
    }
   ],
   "source": [
    "np.max(data[:,1])"
   ]
  },
  {
   "cell_type": "code",
   "execution_count": 22,
   "id": "a29c7791-85be-4de4-aaa9-57a4d048a61c",
   "metadata": {
    "tags": []
   },
   "outputs": [
    {
     "data": {
      "text/plain": [
       "1482"
      ]
     },
     "execution_count": 22,
     "metadata": {},
     "output_type": "execute_result"
    }
   ],
   "source": [
    "np.sum(data[:,1] >  365*150)"
   ]
  },
  {
   "cell_type": "code",
   "execution_count": 23,
   "id": "193f5eb5-17a9-483a-a931-39667afdf527",
   "metadata": {
    "tags": []
   },
   "outputs": [
    {
     "data": {
      "text/plain": [
       "array([    502490, 4294954573,       1259])"
      ]
     },
     "execution_count": 23,
     "metadata": {},
     "output_type": "execute_result"
    }
   ],
   "source": [
    "data.max(0)"
   ]
  },
  {
   "cell_type": "code",
   "execution_count": 24,
   "id": "a449a001-45a8-4783-b05d-ab88b2a4ddf1",
   "metadata": {
    "tags": []
   },
   "outputs": [],
   "source": [
    "data = data[data[:,1] < 365*120,:].astype('uint32')"
   ]
  },
  {
   "cell_type": "code",
   "execution_count": 25,
   "id": "266ef234-7877-4f8c-bf70-97acca7d8145",
   "metadata": {
    "tags": []
   },
   "outputs": [
    {
     "data": {
      "text/plain": [
       "array([502490,  33790,   1259], dtype=uint32)"
      ]
     },
     "execution_count": 25,
     "metadata": {},
     "output_type": "execute_result"
    }
   ],
   "source": [
    "data.max(0)"
   ]
  },
  {
   "cell_type": "code",
   "execution_count": 26,
   "id": "402c8b48-3c15-49ac-a501-ad6b820779c0",
   "metadata": {
    "tags": []
   },
   "outputs": [
    {
     "data": {
      "text/plain": [
       "array([1, 0, 1], dtype=uint32)"
      ]
     },
     "execution_count": 26,
     "metadata": {},
     "output_type": "execute_result"
    }
   ],
   "source": [
    "data.min(0)"
   ]
  },
  {
   "cell_type": "code",
   "execution_count": 27,
   "id": "17668136-3095-43c7-8e07-d7833dfa9b52",
   "metadata": {
    "tags": []
   },
   "outputs": [],
   "source": [
    "# export to bin files\n",
    "train_val_split = data[:,0] <= 400000\n",
    "data[train_val_split].tofile( 'train.bin')\n",
    "data[~train_val_split].tofile('val.bin')\n",
    "\n",
    "# save the meta information as well, to help us encode/decode later\n",
    "vocab_size = data.max(0)[2] + 2\n",
    "meta = {\n",
    "    'vocab_size': vocab_size,\n",
    "    'itos': {i:i for i in range(vocab_size)},\n",
    "    'stoi': {i:i for i in range(vocab_size)},\n",
    "}\n",
    "with open('meta.pkl', 'wb') as f:\n",
    "    pickle.dump(meta, f)"
   ]
  },
  {
   "cell_type": "code",
   "execution_count": 28,
   "id": "185d217f-a6c7-4c02-8fbd-70f3976778df",
   "metadata": {
    "tags": []
   },
   "outputs": [
    {
     "data": {
      "text/plain": [
       "(1208102, 3)"
      ]
     },
     "execution_count": 28,
     "metadata": {},
     "output_type": "execute_result"
    }
   ],
   "source": [
    "data[~train_val_split].shape"
   ]
  },
  {
   "cell_type": "code",
   "execution_count": 29,
   "id": "2eed8740-f225-438b-bfa5-62150bfeae10",
   "metadata": {
    "tags": []
   },
   "outputs": [
    {
     "data": {
      "text/plain": [
       "array([    1, 21131,   265], dtype=uint32)"
      ]
     },
     "execution_count": 29,
     "metadata": {},
     "output_type": "execute_result"
    }
   ],
   "source": [
    "data[:10,][-1]"
   ]
  },
  {
   "cell_type": "code",
   "execution_count": 30,
   "id": "140156db-21f7-4c44-96c0-56e68e47eb46",
   "metadata": {
    "tags": []
   },
   "outputs": [
    {
     "data": {
      "text/plain": [
       "array([    1, 21131,   913], dtype=uint32)"
      ]
     },
     "execution_count": 30,
     "metadata": {},
     "output_type": "execute_result"
    }
   ],
   "source": [
    "data[10]"
   ]
  },
  {
   "cell_type": "code",
   "execution_count": 31,
   "id": "a1837ccf-3efb-4020-85fe-cb950141309f",
   "metadata": {},
   "outputs": [
    {
     "data": {
      "text/plain": [
       "4708659"
      ]
     },
     "execution_count": 31,
     "metadata": {},
     "output_type": "execute_result"
    }
   ],
   "source": [
    "train_val_split.sum()"
   ]
  },
  {
   "cell_type": "code",
   "execution_count": 32,
   "id": "62ac11e9-2b69-4c4b-aeb9-4e4acf4bd4bd",
   "metadata": {
    "tags": []
   },
   "outputs": [
    {
     "data": {
      "text/plain": [
       "502490"
      ]
     },
     "execution_count": 32,
     "metadata": {},
     "output_type": "execute_result"
    }
   ],
   "source": [
    "data[:,0].max()"
   ]
  },
  {
   "cell_type": "code",
   "execution_count": 33,
   "id": "2ada9334-5d0a-41cc-8e5c-c5ec04a66341",
   "metadata": {
    "tags": []
   },
   "outputs": [
    {
     "data": {
      "text/plain": [
       "1261"
      ]
     },
     "execution_count": 33,
     "metadata": {},
     "output_type": "execute_result"
    }
   ],
   "source": [
    "vocab_size"
   ]
  },
  {
   "cell_type": "code",
   "execution_count": 34,
   "id": "a9e85067-9785-4950-9943-88b48ce22c79",
   "metadata": {
    "tags": []
   },
   "outputs": [],
   "source": [
    "import re"
   ]
  },
  {
   "cell_type": "code",
   "execution_count": 35,
   "id": "b94aeda8-74b2-4b7f-9e45-55bc55b28bc7",
   "metadata": {
    "tags": []
   },
   "outputs": [],
   "source": [
    "foo = re.sub(\"([0-9]+|-)\\n\",\"\\t\",\n",
    "\"\"\"C00-C14 Malignant neoplasms of lip, oral cavity and pharynx-\n",
    "C00 Malignant neoplasm of lip65\n",
    "C01 Malignant neoplasm of base of tongue231\n",
    "C02 Malignant neoplasm of other and unspecified parts of tongue339\n",
    "C03 Malignant neoplasm of gum109\n",
    "C04 Malignant neoplasm of floor of mouth83\n",
    "C05 Malignant neoplasm of palate102\n",
    "C06 Malignant neoplasm of other and unspecified parts of mouth122\n",
    "C07 Malignant neoplasm of parotid gland152\n",
    "C08 Malignant neoplasm of other and unspecified major salivary glands42\n",
    "C09 Malignant neoplasm of tonsil401\n",
    "C10 Malignant neoplasm of oropharynx68\n",
    "C11 Malignant neoplasm of nasopharynx56\n",
    "C12 Malignant neoplasm of pyriform sinus51\n",
    "C13 Malignant neoplasm of hypopharynx41\n",
    "C14 Malignant neoplasm of other and ill-defined sites in the lip, oral cavity and pharynx28\n",
    "C15-C26 Malignant neoplasms of digestive organs-\n",
    "C15 Malignant neoplasm of oesophagus1395\n",
    "C16 Malignant neoplasm of stomach1035\n",
    "C17 Malignant neoplasm of small intestine398\n",
    "C18 Malignant neoplasm of colon6246\n",
    "C19 Malignant neoplasm of rectosigmoid junction642\n",
    "C20 Malignant neoplasm of rectum2703\n",
    "C21 Malignant neoplasm of anus and anal canal336\n",
    "C22 Malignant neoplasm of liver and intrahepatic bile ducts810\n",
    "C23 Malignant neoplasm of gallbladder164\n",
    "C24 Malignant neoplasm of other and unspecified parts of biliary tract266\n",
    "C25 Malignant neoplasm of pancreas1648\n",
    "C26 Malignant neoplasm of other and ill-defined digestive organs45\n",
    "C30-C39 Malignant neoplasms of respiratory and intrathoracic organs-\n",
    "C30 Malignant neoplasm of nasal cavity and middle ear68\n",
    "C31 Malignant neoplasm of accessory sinuses30\n",
    "C32 Malignant neoplasm of larynx419\n",
    "C33 Malignant neoplasm of trachea9\n",
    "C34 Malignant neoplasm of bronchus and lung5596\n",
    "C37 Malignant neoplasm of thymus62\n",
    "C38 Malignant neoplasm of heart, mediastinum and pleura25\n",
    "C39 Malignant neoplasm of other and ill-defined sites in the respiratory system and intrathoracic organs4\n",
    "C40-C41 Malignant neoplasms of bone and articular cartilage-\n",
    "C40 Malignant neoplasm of bone and articular cartilage of limbs69\n",
    "C41 Malignant neoplasm of bone and articular cartilage of other and unspecified sites56\n",
    "C42 hematopoietic and reticuloendothelial systems (ICD-O-3 specific)46\n",
    "C43-C44 Melanoma and other malignant neoplasms of skin-\n",
    "C43 Malignant melanoma of skin5575\n",
    "C44 Other malignant neoplasms of skin40662\n",
    "C45-C49 Malignant neoplasms of mesothelial and soft tissue-\n",
    "C45 Mesothelioma509\n",
    "C46 Kaposi's sarcoma24\n",
    "C47 Malignant neoplasm of peripheral nerves and autonomic nervous system23\n",
    "C48 Malignant neoplasm of retroperitoneum and peritoneum227\n",
    "C49 Malignant neoplasm of other connective and soft tissue487\n",
    "C50-C50 Malignant neoplasm of breast-\n",
    "C50 Malignant neoplasm of breast20813\n",
    "C51-C58 Malignant neoplasms of female genital organs-\n",
    "C51 Malignant neoplasm of vulva241\n",
    "C52 Malignant neoplasm of vagina48\n",
    "C53 Malignant neoplasm of cervix uteri613\n",
    "C54 Malignant neoplasm of corpus uteri2754\n",
    "C55 Malignant neoplasm of uterus, part unspecified66\n",
    "C56 Malignant neoplasm of ovary1860\n",
    "C57 Malignant neoplasm of other and unspecified female genital organs190\n",
    "C58 Malignant neoplasm of placenta13\n",
    "C60-C63 Malignant neoplasms of male genital organs-\n",
    "C60 Malignant neoplasm of penis114\n",
    "C61 Malignant neoplasm of prostate16001\n",
    "C62 Malignant neoplasm of testis625\n",
    "C63 Malignant neoplasm of other and unspecified male genital organs25\n",
    "C64-C68 Malignant neoplasms of urinary tract-\n",
    "C64 Malignant neoplasm of kidney, except renal pelvis2302\n",
    "C65 Malignant neoplasm of renal pelvis147\n",
    "C66 Malignant neoplasm of ureter152\n",
    "C67 Malignant neoplasm of bladder2044\n",
    "C68 Malignant neoplasm of other and unspecified urinary organs46\n",
    "C69-C72 Malignant neoplasms of eye, brain and other parts of central nervous system-\n",
    "C69 Malignant neoplasm of eye and adnexa229\n",
    "C70 Malignant neoplasm of meninges24\n",
    "C71 Malignant neoplasm of brain1060\n",
    "C72 Malignant neoplasm of spinal cord, cranial nerves and other parts of central nervous system35\n",
    "C73-C75 Malignant neoplasms of thyroid and other endocrine glands-\n",
    "C73 Malignant neoplasm of thyroid gland928\n",
    "C74 Malignant neoplasm of adrenal gland46\n",
    "C75 Malignant neoplasm of other endocrine glands and related structures27\n",
    "C76-C80 Malignant neoplasms of ill-defined, secondary and unspecified sites-\n",
    "C76 Malignant neoplasm of other and ill-defined sites61\n",
    "C77 Secondary and unspecified malignant neoplasm of lymph nodes203\n",
    "C78 Secondary malignant neoplasm of respiratory and digestive organs248\n",
    "C79 Secondary malignant neoplasm of other sites114\n",
    "C80 Malignant neoplasm without specification of site427\n",
    "C81-C96 Malignant neoplasms, stated or presumed to be primary, of lymphoid, haematopoietic and related tissue-\n",
    "C81 Hodgkin's disease449\n",
    "C82 Follicular [nodular] non-Hodgkin's lymphoma868\n",
    "C83 Diffuse non-Hodgkin's lymphoma1777\n",
    "C84 Peripheral and cutaneous T-cell lymphomas294\n",
    "C85 Other and unspecified types of non-Hodgkin's lymphoma846\n",
    "C86 Other specified types of T/NK-cell lymphoma7\n",
    "C88 Malignant immunoproliferative diseases92\n",
    "C90 Multiple myeloma and malignant plasma cell neoplasms1320\n",
    "C91 Lymphoid leukaemia1232\n",
    "C92 Myeloid leukaemia814\n",
    "C93 Monocytic leukaemia20\n",
    "C94 Other leukaemias of specified cell type15\n",
    "C95 Leukaemia of unspecified cell type28\n",
    "C96 Other and unspecified malignant neoplasms of lymphoid, haematopoietic and related tissue54\n",
    "C97-C97 Malignant neoplasms of independent (primary) multiple sites-\n",
    "C97 Malignant neoplasms of independent (primary) multiple sites1\n",
    "D00-D09 In situ neoplasms-\n",
    "D00 Carcinoma in situ of oral cavity, oesophagus and stomach165\n",
    "D01 Carcinoma in situ of other and unspecified digestive organs880\n",
    "D02 Carcinoma in situ of middle ear and respiratory system106\n",
    "D03 Melanoma in situ2399\n",
    "D04 Carcinoma in situ of skin1816\n",
    "D05 Carcinoma in situ of breast3757\n",
    "D06 Carcinoma in situ of cervix uteri4229\n",
    "D07 Carcinoma in situ of other and unspecified genital organs958\n",
    "D09 Carcinoma in situ of other and unspecified sites1842\n",
    "D10-D36 Benign neoplasms-\n",
    "D10 Benign neoplasm of mouth and pharynx1\n",
    "D11 Benign neoplasm of major salivary glands49\n",
    "D12 Benign neoplasm of colon, rectum, anus and anal canal5\n",
    "D13 Benign neoplasm of other and ill-defined parts of digestive system1\n",
    "D15 Benign neoplasm of other and unspecified intrathoracic organs3\n",
    "D16 Benign neoplasm of bone and articular cartilage3\n",
    "D18 Haemangioma and lymphangioma, any site6\n",
    "D21 Other benign neoplasms of connective and other soft tissue5\n",
    "D27 Benign neoplasm of ovary3\n",
    "D29 Benign neoplasm of male genital organs1\n",
    "D30 Benign neoplasm of urinary organs4\n",
    "D32 Benign neoplasm of meninges831\n",
    "D33 Benign neoplasm of brain and other parts of central nervous system388\n",
    "D34 Benign neoplasm of thyroid gland5\n",
    "D35 Benign neoplasm of other and unspecified endocrine glands370\n",
    "D36 Benign neoplasm of other and unspecified sites4\n",
    "D37-D48 Neoplasms of uncertain or unknown behaviour-\n",
    "D37 Neoplasm of uncertain or unknown behaviour of oral cavity and digestive organs585\n",
    "D38 Neoplasm of uncertain or unknown behaviour of middle ear and respiratory and intrathoracic organs38\n",
    "D39 Neoplasm of uncertain or unknown behaviour of female genital organs197\n",
    "D40 Neoplasm of uncertain or unknown behaviour of male genital organs41\n",
    "D41 Neoplasm of uncertain or unknown behaviour of urinary organs1052\n",
    "D42 Neoplasm of uncertain or unknown behaviour of meninges72\n",
    "D43 Neoplasm of uncertain or unknown behaviour of brain and central nervous system117\n",
    "D44 Neoplasm of uncertain or unknown behaviour of endocrine glands88\n",
    "D45 Polycythaemia vera261\n",
    "D46 Myelodysplastic syndromes408\n",
    "D47 Other neoplasms of uncertain or unknown behaviour of lymphoid, haematopoietic and related tissue820\n",
    "D48 Neoplasm of uncertain or unknown behaviour of other and unspecified sites420\n",
    "O00-O08 Pregnancy with abortive outcome-\n",
    "O01 Hydatidiform mole38\"\"\")\n",
    "bar = {x[:3]: x for x in foo.split(\"\\t\") if not x[3]==\"-\"}"
   ]
  },
  {
   "cell_type": "code",
   "execution_count": 36,
   "id": "2ce2d1e4-777e-4473-a288-1cf087237521",
   "metadata": {
    "tags": []
   },
   "outputs": [
    {
     "data": {
      "text/plain": [
       "1261"
      ]
     },
     "execution_count": 36,
     "metadata": {},
     "output_type": "execute_result"
    }
   ],
   "source": [
    "labels = pd.read_csv(\"fields.txt\", header=None).merge(pd.read_csv(\"icd10_codes_mod.tsv\", sep='\\t',header=None, index_col=0), left_on=0, right_index=True)\n",
    "labels[1] = labels[1].str.replace(\"Source of report of \",\"\")\n",
    "all_labels = ['Padding'] + ['Healthy'] + ['Female'] + ['Male'] + labels[1].to_list() + [\"CXX Unknown Cancer\"] + [bar[x] for x in cancers.cancer.cat.categories.to_list()] + ['Death']\n",
    "len(all_labels)"
   ]
  },
  {
   "cell_type": "code",
   "execution_count": 37,
   "id": "6834634b-c7b2-422d-af94-820484d8dceb",
   "metadata": {
    "tags": []
   },
   "outputs": [
    {
     "data": {
      "text/plain": [
       "1261"
      ]
     },
     "execution_count": 37,
     "metadata": {},
     "output_type": "execute_result"
    }
   ],
   "source": [
    "vocab_size"
   ]
  },
  {
   "cell_type": "code",
   "execution_count": 38,
   "id": "0a94894e-5c60-4079-8085-4b02ca47eda7",
   "metadata": {
    "tags": []
   },
   "outputs": [],
   "source": [
    "np.savetxt('labels.csv', np.array(all_labels),fmt='%s')"
   ]
  },
  {
   "cell_type": "code",
   "execution_count": 39,
   "id": "f90d6198-526b-4e2a-8875-42388c65274f",
   "metadata": {
    "tags": []
   },
   "outputs": [
    {
     "data": {
      "text/plain": [
       "{'Q97 (other sex chromosome abnormalities, female phenotype, not elsewhere classified)': 68,\n",
       " 'Q98 (other sex chromosome abnormalities, male phenotype, not elsewhere classified)': 62,\n",
       " 'Q99 (other chromosome abnormalities, not elsewhere classified)': 6276,\n",
       " 'CXX Unknown Cancer': 36,\n",
       " 'C00 Malignant neoplasm of lip': 112,\n",
       " 'C01 Malignant neoplasm of base of tongue': 186,\n",
       " 'C02 Malignant neoplasm of other and unspecified parts of tongue': 43,\n",
       " 'C03 Malignant neoplasm of gum': 50,\n",
       " 'C04 Malignant neoplasm of floor of mouth': 55,\n",
       " 'C05 Malignant neoplasm of palate': 58,\n",
       " 'C06 Malignant neoplasm of other and unspecified parts of mouth': 87,\n",
       " 'C07 Malignant neoplasm of parotid gland': 21,\n",
       " 'C08 Malignant neoplasm of other and unspecified major salivary glands': 229,\n",
       " 'C09 Malignant neoplasm of tonsil': 32,\n",
       " 'C10 Malignant neoplasm of oropharynx': 32,\n",
       " 'C11 Malignant neoplasm of nasopharynx': 19,\n",
       " 'C12 Malignant neoplasm of pyriform sinus': 13,\n",
       " 'C13 Malignant neoplasm of hypopharynx': 18,\n",
       " 'C14 Malignant neoplasm of other and ill-defined sites in the lip, oral cavity and pharynx': 637,\n",
       " 'C15 Malignant neoplasm of oesophagus': 466,\n",
       " 'C16 Malignant neoplasm of stomach': 174,\n",
       " 'C17 Malignant neoplasm of small intestine': 3224,\n",
       " 'C18 Malignant neoplasm of colon': 409,\n",
       " 'C19 Malignant neoplasm of rectosigmoid junction': 1525,\n",
       " 'C20 Malignant neoplasm of rectum': 159,\n",
       " 'C21 Malignant neoplasm of anus and anal canal': 325,\n",
       " 'C22 Malignant neoplasm of liver and intrahepatic bile ducts': 72,\n",
       " 'C23 Malignant neoplasm of gallbladder': 115,\n",
       " 'C24 Malignant neoplasm of other and unspecified parts of biliary tract': 631,\n",
       " 'C25 Malignant neoplasm of pancreas': 22,\n",
       " 'C26 Malignant neoplasm of other and ill-defined digestive organs': 34,\n",
       " 'C30 Malignant neoplasm of nasal cavity and middle ear': 14,\n",
       " 'C31 Malignant neoplasm of accessory sinuses': 253,\n",
       " 'C32 Malignant neoplasm of larynx': 6,\n",
       " 'C33 Malignant neoplasm of trachea': 2253,\n",
       " 'C34 Malignant neoplasm of bronchus and lung': 26,\n",
       " 'C37 Malignant neoplasm of thymus': 12,\n",
       " 'C38 Malignant neoplasm of heart, mediastinum and pleura': 2,\n",
       " 'C39 Malignant neoplasm of other and ill-defined sites in the respiratory system and intrathoracic organs': 40,\n",
       " 'C40 Malignant neoplasm of bone and articular cartilage of limbs': 34,\n",
       " 'C41 Malignant neoplasm of bone and articular cartilage of other and unspecified sites': 43,\n",
       " 'C42 hematopoietic and reticuloendothelial systems (ICD-O-3 specific)': 3034,\n",
       " 'C43 Malignant melanoma of skin': 20810,\n",
       " 'C44 Other malignant neoplasms of skin': 244,\n",
       " 'C45 Mesothelioma': 15,\n",
       " \"C46 Kaposi's sarcoma\": 17,\n",
       " 'C47 Malignant neoplasm of peripheral nerves and autonomic nervous system': 123,\n",
       " 'C48 Malignant neoplasm of retroperitoneum and peritoneum': 283,\n",
       " 'C49 Malignant neoplasm of other connective and soft tissue': 13351,\n",
       " 'C50 Malignant neoplasm of breast': 122,\n",
       " 'C51 Malignant neoplasm of vulva': 19,\n",
       " 'C52 Malignant neoplasm of vagina': 473,\n",
       " 'C53 Malignant neoplasm of cervix uteri': 1618,\n",
       " 'C54 Malignant neoplasm of corpus uteri': 41,\n",
       " 'C55 Malignant neoplasm of uterus, part unspecified': 1106,\n",
       " 'C56 Malignant neoplasm of ovary': 74,\n",
       " 'C57 Malignant neoplasm of other and unspecified female genital organs': 12,\n",
       " 'C58 Malignant neoplasm of placenta': 64,\n",
       " 'C60 Malignant neoplasm of penis': 8589,\n",
       " 'C61 Malignant neoplasm of prostate': 539,\n",
       " 'C62 Malignant neoplasm of testis': 15,\n",
       " 'C63 Malignant neoplasm of other and unspecified male genital organs': 1125,\n",
       " 'C64 Malignant neoplasm of kidney, except renal pelvis': 66,\n",
       " 'C65 Malignant neoplasm of renal pelvis': 37,\n",
       " 'C66 Malignant neoplasm of ureter': 1020,\n",
       " 'C67 Malignant neoplasm of bladder': 15,\n",
       " 'C68 Malignant neoplasm of other and unspecified urinary organs': 148,\n",
       " 'C69 Malignant neoplasm of eye and adnexa': 15,\n",
       " 'C70 Malignant neoplasm of meninges': 544,\n",
       " 'C71 Malignant neoplasm of brain': 21,\n",
       " 'C72 Malignant neoplasm of spinal cord, cranial nerves and other parts of central nervous system': 537,\n",
       " 'C73 Malignant neoplasm of thyroid gland': 29,\n",
       " 'C74 Malignant neoplasm of adrenal gland': 20,\n",
       " 'C75 Malignant neoplasm of other endocrine glands and related structures': 35,\n",
       " 'C76 Malignant neoplasm of other and ill-defined sites': 119,\n",
       " 'C77 Secondary and unspecified malignant neoplasm of lymph nodes': 127,\n",
       " 'C78 Secondary malignant neoplasm of respiratory and digestive organs': 62,\n",
       " 'C79 Secondary malignant neoplasm of other sites': 167,\n",
       " 'C80 Malignant neoplasm without specification of site': 319,\n",
       " \"C81 Hodgkin's disease\": 482,\n",
       " \"C82 Follicular [nodular] non-Hodgkin's lymphoma\": 883,\n",
       " \"C83 Diffuse non-Hodgkin's lymphoma\": 168,\n",
       " 'C84 Peripheral and cutaneous T-cell lymphomas': 439,\n",
       " \"C85 Other and unspecified types of non-Hodgkin's lymphoma\": 1,\n",
       " 'C86 Other specified types of T/NK-cell lymphoma': 30,\n",
       " 'C88 Malignant immunoproliferative diseases': 582,\n",
       " 'C90 Multiple myeloma and malignant plasma cell neoplasms': 648,\n",
       " 'C91 Lymphoid leukaemia': 386,\n",
       " 'C92 Myeloid leukaemia': 10,\n",
       " 'C93 Monocytic leukaemia': 6,\n",
       " 'C94 Other leukaemias of specified cell type': 16,\n",
       " 'C95 Leukaemia of unspecified cell type': 37,\n",
       " 'C96 Other and unspecified malignant neoplasms of lymphoid, haematopoietic and related tissue': 1,\n",
       " 'C97 Malignant neoplasms of independent (primary) multiple sites': 70,\n",
       " 'D00 Carcinoma in situ of oral cavity, oesophagus and stomach': 293,\n",
       " 'D01 Carcinoma in situ of other and unspecified digestive organs': 60,\n",
       " 'D02 Carcinoma in situ of middle ear and respiratory system': 1125,\n",
       " 'D03 Melanoma in situ': 1064,\n",
       " 'D04 Carcinoma in situ of skin': 2246,\n",
       " 'D05 Carcinoma in situ of breast': 3855,\n",
       " 'D06 Carcinoma in situ of cervix uteri': 563,\n",
       " 'D07 Carcinoma in situ of other and unspecified genital organs': 680,\n",
       " 'D09 Carcinoma in situ of other and unspecified sites': 1,\n",
       " 'D10 Benign neoplasm of mouth and pharynx': 47,\n",
       " 'D11 Benign neoplasm of major salivary glands': 2,\n",
       " 'D12 Benign neoplasm of colon, rectum, anus and anal canal': 1,\n",
       " 'D13 Benign neoplasm of other and ill-defined parts of digestive system': 3,\n",
       " 'D15 Benign neoplasm of other and unspecified intrathoracic organs': 2,\n",
       " 'D16 Benign neoplasm of bone and articular cartilage': 3,\n",
       " 'D18 Haemangioma and lymphangioma, any site': 3,\n",
       " 'D27 Benign neoplasm of ovary': 2,\n",
       " 'D30 Benign neoplasm of urinary organs': 423,\n",
       " 'D32 Benign neoplasm of meninges': 237,\n",
       " 'D33 Benign neoplasm of brain and other parts of central nervous system': 1,\n",
       " 'D34 Benign neoplasm of thyroid gland': 246,\n",
       " 'D35 Benign neoplasm of other and unspecified endocrine glands': 4,\n",
       " 'D36 Benign neoplasm of other and unspecified sites': 356,\n",
       " 'D37 Neoplasm of uncertain or unknown behaviour of oral cavity and digestive organs': 25,\n",
       " 'D38 Neoplasm of uncertain or unknown behaviour of middle ear and respiratory and intrathoracic organs': 158,\n",
       " 'D39 Neoplasm of uncertain or unknown behaviour of female genital organs': 35,\n",
       " 'D40 Neoplasm of uncertain or unknown behaviour of male genital organs': 768,\n",
       " 'D41 Neoplasm of uncertain or unknown behaviour of urinary organs': 29,\n",
       " 'D42 Neoplasm of uncertain or unknown behaviour of meninges': 67,\n",
       " 'D43 Neoplasm of uncertain or unknown behaviour of brain and central nervous system': 62,\n",
       " 'D44 Neoplasm of uncertain or unknown behaviour of endocrine glands': 162,\n",
       " 'D45 Polycythaemia vera': 134,\n",
       " 'D46 Myelodysplastic syndromes': 383,\n",
       " 'D47 Other neoplasms of uncertain or unknown behaviour of lymphoid, haematopoietic and related tissue': 226,\n",
       " 'D48 Neoplasm of uncertain or unknown behaviour of other and unspecified sites': 33,\n",
       " 'O01 Hydatidiform mole38': 30203,\n",
       " 'Death': 0}"
      ]
     },
     "execution_count": 39,
     "metadata": {},
     "output_type": "execute_result"
    }
   ],
   "source": [
    "{all_labels[i]: (data[:,2]==i).sum() for i in range(1130,len(all_labels))}"
   ]
  },
  {
   "cell_type": "code",
   "execution_count": 40,
   "id": "0877bd65-f02c-478d-bb46-8480706926a4",
   "metadata": {
    "tags": []
   },
   "outputs": [
    {
     "data": {
      "text/plain": [
       "array([[     1,      0,      1],\n",
       "       [     1,  17900,   1172],\n",
       "       [     1,  19169,    808],\n",
       "       ...,\n",
       "       [502490,  26107,    637],\n",
       "       [502490,  26107,    640],\n",
       "       [502490,  27106,    670]], dtype=uint32)"
      ]
     },
     "execution_count": 40,
     "metadata": {},
     "output_type": "execute_result"
    }
   ],
   "source": [
    "data"
   ]
  },
  {
   "cell_type": "code",
   "execution_count": 41,
   "id": "5bf688ea-006a-4ee3-b873-3e263df7228a",
   "metadata": {
    "tags": []
   },
   "outputs": [
    {
     "data": {
      "text/plain": [
       "array([[     1,      0,      1],\n",
       "       [     1,  17900,   1172],\n",
       "       [     1,  19169,    808],\n",
       "       ...,\n",
       "       [502490,  26107,    637],\n",
       "       [502490,  26107,    640],\n",
       "       [502490,  27106,    670]], dtype=uint32)"
      ]
     },
     "execution_count": 41,
     "metadata": {},
     "output_type": "execute_result"
    }
   ],
   "source": [
    "data"
   ]
  },
  {
   "cell_type": "code",
   "execution_count": 42,
   "id": "a04fb95a-b3cf-4d64-b837-1d6cb6b53b31",
   "metadata": {
    "tags": []
   },
   "outputs": [
    {
     "data": {
      "text/plain": [
       "1261"
      ]
     },
     "execution_count": 42,
     "metadata": {},
     "output_type": "execute_result"
    }
   ],
   "source": [
    "vocab_size"
   ]
  },
  {
   "cell_type": "code",
   "execution_count": 43,
   "id": "9a48c366-e734-42e1-871a-98232cb5a621",
   "metadata": {
    "tags": []
   },
   "outputs": [
    {
     "data": {
      "text/plain": [
       "0"
      ]
     },
     "execution_count": 43,
     "metadata": {},
     "output_type": "execute_result"
    }
   ],
   "source": [
    "np.isinf(data).sum()"
   ]
  },
  {
   "cell_type": "code",
   "execution_count": 44,
   "id": "78003c4c-6969-4078-be12-f16b9b78fdf9",
   "metadata": {
    "tags": []
   },
   "outputs": [
    {
     "data": {
      "text/plain": [
       "array([502490,  33790,   1259], dtype=uint32)"
      ]
     },
     "execution_count": 44,
     "metadata": {},
     "output_type": "execute_result"
    }
   ],
   "source": [
    "data.max(0)"
   ]
  },
  {
   "cell_type": "code",
   "execution_count": 45,
   "id": "24b5b192-073a-4b53-9154-b54b9eac4517",
   "metadata": {
    "tags": []
   },
   "outputs": [
    {
     "data": {
      "text/html": [
       "<div>\n",
       "<style scoped>\n",
       "    .dataframe tbody tr th:only-of-type {\n",
       "        vertical-align: middle;\n",
       "    }\n",
       "\n",
       "    .dataframe tbody tr th {\n",
       "        vertical-align: top;\n",
       "    }\n",
       "\n",
       "    .dataframe thead th {\n",
       "        text-align: right;\n",
       "    }\n",
       "</style>\n",
       "<table border=\"1\" class=\"dataframe\">\n",
       "  <thead>\n",
       "    <tr style=\"text-align: right;\">\n",
       "      <th></th>\n",
       "      <th>patient</th>\n",
       "      <th>death</th>\n",
       "      <th>aod</th>\n",
       "    </tr>\n",
       "  </thead>\n",
       "  <tbody>\n",
       "    <tr>\n",
       "      <th>0</th>\n",
       "      <td>47</td>\n",
       "      <td>1</td>\n",
       "      <td>25673</td>\n",
       "    </tr>\n",
       "    <tr>\n",
       "      <th>1</th>\n",
       "      <td>61</td>\n",
       "      <td>1</td>\n",
       "      <td>25206</td>\n",
       "    </tr>\n",
       "    <tr>\n",
       "      <th>2</th>\n",
       "      <td>69</td>\n",
       "      <td>1</td>\n",
       "      <td>24969</td>\n",
       "    </tr>\n",
       "    <tr>\n",
       "      <th>3</th>\n",
       "      <td>88</td>\n",
       "      <td>1</td>\n",
       "      <td>28852</td>\n",
       "    </tr>\n",
       "    <tr>\n",
       "      <th>4</th>\n",
       "      <td>105</td>\n",
       "      <td>1</td>\n",
       "      <td>23134</td>\n",
       "    </tr>\n",
       "    <tr>\n",
       "      <th>...</th>\n",
       "      <td>...</td>\n",
       "      <td>...</td>\n",
       "      <td>...</td>\n",
       "    </tr>\n",
       "    <tr>\n",
       "      <th>30198</th>\n",
       "      <td>502431</td>\n",
       "      <td>1</td>\n",
       "      <td>27769</td>\n",
       "    </tr>\n",
       "    <tr>\n",
       "      <th>30199</th>\n",
       "      <td>502435</td>\n",
       "      <td>1</td>\n",
       "      <td>29866</td>\n",
       "    </tr>\n",
       "    <tr>\n",
       "      <th>30200</th>\n",
       "      <td>502443</td>\n",
       "      <td>1</td>\n",
       "      <td>22688</td>\n",
       "    </tr>\n",
       "    <tr>\n",
       "      <th>30201</th>\n",
       "      <td>502457</td>\n",
       "      <td>1</td>\n",
       "      <td>28549</td>\n",
       "    </tr>\n",
       "    <tr>\n",
       "      <th>30202</th>\n",
       "      <td>502489</td>\n",
       "      <td>1</td>\n",
       "      <td>24934</td>\n",
       "    </tr>\n",
       "  </tbody>\n",
       "</table>\n",
       "<p>30203 rows × 3 columns</p>\n",
       "</div>"
      ],
      "text/plain": [
       "       patient  death    aod\n",
       "0           47      1  25673\n",
       "1           61      1  25206\n",
       "2           69      1  24969\n",
       "3           88      1  28852\n",
       "4          105      1  23134\n",
       "...        ...    ...    ...\n",
       "30198   502431      1  27769\n",
       "30199   502435      1  29866\n",
       "30200   502443      1  22688\n",
       "30201   502457      1  28549\n",
       "30202   502489      1  24934\n",
       "\n",
       "[30203 rows x 3 columns]"
      ]
     },
     "execution_count": 45,
     "metadata": {},
     "output_type": "execute_result"
    }
   ],
   "source": [
    "deaths"
   ]
  },
  {
   "cell_type": "code",
   "execution_count": 46,
   "id": "865a1571-60ff-40a3-a589-9894c2de0772",
   "metadata": {
    "tags": []
   },
   "outputs": [
    {
     "data": {
      "text/plain": [
       "(array([477, 478, 479, 480, 481, 482, 483, 484, 485, 486, 487, 488, 489,\n",
       "        490, 491, 492, 493, 494, 495, 496, 497, 530]),)"
      ]
     },
     "execution_count": 46,
     "metadata": {},
     "output_type": "execute_result"
    }
   ],
   "source": [
    "np.where(data[:,0]==47)"
   ]
  },
  {
   "cell_type": "code",
   "execution_count": 47,
   "id": "36451dba-d40b-4c37-9b09-871d6d59136c",
   "metadata": {
    "tags": []
   },
   "outputs": [],
   "source": [
    "import re\n",
    "foo = re.sub(\"[0-9]+\\n\",\"\\t\",\n",
    "\"\"\"C00-C14 Malignant neoplasms of lip, oral cavity and pharynx1890\n",
    "C15-C26 Malignant neoplasms of digestive organs15688\n",
    "C30-C39 Malignant neoplasms of respiratory and intrathoracic organs6213\n",
    "C40-C41 Malignant neoplasms of bone and articular cartilage171\n",
    "C43-C44 Melanoma and other malignant neoplasms of skin46237\n",
    "C45-C49 Malignant neoplasms of mesothelial and soft tissue1270\n",
    "C50-C50 Malignant neoplasm of breast20813\n",
    "C51-C58 Malignant neoplasms of female genital organs5785\n",
    "C60-C63 Malignant neoplasms of male genital organs16765\n",
    "C64-C68 Malignant neoplasms of urinary tract4691\n",
    "C69-C72 Malignant neoplasms of eye, brain and other parts of central nervous system1348\n",
    "C73-C75 Malignant neoplasms of thyroid and other endocrine glands1001\n",
    "C76-C80 Malignant neoplasms of ill-defined, secondary and unspecified sites1053\n",
    "C81-C96 Malignant neoplasms, stated or presumed to be primary, of lymphoid, haematopoietic and related tissue7816\n",
    "C97-C97 Malignant neoplasms of independent (primary) multiple sites1\n",
    "D00-D09 In situ neoplasms16152\n",
    "D10-D36 Benign neoplasms1679\n",
    "D37-D48 Neoplasms of uncertain or unknown behaviour4099\n",
    "O00-O08 Pregnancy with abortive outcome\"\"\")"
   ]
  },
  {
   "cell_type": "code",
   "execution_count": 48,
   "id": "69fa0ef4-fc30-4a12-a573-98e576548b99",
   "metadata": {
    "tags": []
   },
   "outputs": [
    {
     "data": {
      "text/plain": [
       "{'C00': 'C00-C14 Malignant neoplasms of lip, oral cavity and pharynx',\n",
       " 'C01': 'C00-C14 Malignant neoplasms of lip, oral cavity and pharynx',\n",
       " 'C02': 'C00-C14 Malignant neoplasms of lip, oral cavity and pharynx',\n",
       " 'C03': 'C00-C14 Malignant neoplasms of lip, oral cavity and pharynx',\n",
       " 'C04': 'C00-C14 Malignant neoplasms of lip, oral cavity and pharynx',\n",
       " 'C05': 'C00-C14 Malignant neoplasms of lip, oral cavity and pharynx',\n",
       " 'C06': 'C00-C14 Malignant neoplasms of lip, oral cavity and pharynx',\n",
       " 'C07': 'C00-C14 Malignant neoplasms of lip, oral cavity and pharynx',\n",
       " 'C08': 'C00-C14 Malignant neoplasms of lip, oral cavity and pharynx',\n",
       " 'C09': 'C00-C14 Malignant neoplasms of lip, oral cavity and pharynx',\n",
       " 'C10': 'C00-C14 Malignant neoplasms of lip, oral cavity and pharynx',\n",
       " 'C11': 'C00-C14 Malignant neoplasms of lip, oral cavity and pharynx',\n",
       " 'C12': 'C00-C14 Malignant neoplasms of lip, oral cavity and pharynx',\n",
       " 'C13': 'C00-C14 Malignant neoplasms of lip, oral cavity and pharynx',\n",
       " 'C14': 'C00-C14 Malignant neoplasms of lip, oral cavity and pharynx',\n",
       " 'C15': 'C15-C26 Malignant neoplasms of digestive organs',\n",
       " 'C16': 'C15-C26 Malignant neoplasms of digestive organs',\n",
       " 'C17': 'C15-C26 Malignant neoplasms of digestive organs',\n",
       " 'C18': 'C15-C26 Malignant neoplasms of digestive organs',\n",
       " 'C19': 'C15-C26 Malignant neoplasms of digestive organs',\n",
       " 'C20': 'C15-C26 Malignant neoplasms of digestive organs',\n",
       " 'C21': 'C15-C26 Malignant neoplasms of digestive organs',\n",
       " 'C22': 'C15-C26 Malignant neoplasms of digestive organs',\n",
       " 'C23': 'C15-C26 Malignant neoplasms of digestive organs',\n",
       " 'C24': 'C15-C26 Malignant neoplasms of digestive organs',\n",
       " 'C25': 'C15-C26 Malignant neoplasms of digestive organs',\n",
       " 'C26': 'C15-C26 Malignant neoplasms of digestive organs',\n",
       " 'C30': 'C30-C39 Malignant neoplasms of respiratory and intrathoracic organs',\n",
       " 'C31': 'C30-C39 Malignant neoplasms of respiratory and intrathoracic organs',\n",
       " 'C32': 'C30-C39 Malignant neoplasms of respiratory and intrathoracic organs',\n",
       " 'C33': 'C30-C39 Malignant neoplasms of respiratory and intrathoracic organs',\n",
       " 'C34': 'C30-C39 Malignant neoplasms of respiratory and intrathoracic organs',\n",
       " 'C35': 'C30-C39 Malignant neoplasms of respiratory and intrathoracic organs',\n",
       " 'C36': 'C30-C39 Malignant neoplasms of respiratory and intrathoracic organs',\n",
       " 'C37': 'C30-C39 Malignant neoplasms of respiratory and intrathoracic organs',\n",
       " 'C38': 'C30-C39 Malignant neoplasms of respiratory and intrathoracic organs',\n",
       " 'C39': 'C30-C39 Malignant neoplasms of respiratory and intrathoracic organs',\n",
       " 'C40': 'C40-C41 Malignant neoplasms of bone and articular cartilage',\n",
       " 'C41': 'C40-C41 Malignant neoplasms of bone and articular cartilage',\n",
       " 'C43': 'C43-C44 Melanoma and other malignant neoplasms of skin',\n",
       " 'C44': 'C43-C44 Melanoma and other malignant neoplasms of skin',\n",
       " 'C45': 'C45-C49 Malignant neoplasms of mesothelial and soft tissue',\n",
       " 'C46': 'C45-C49 Malignant neoplasms of mesothelial and soft tissue',\n",
       " 'C47': 'C45-C49 Malignant neoplasms of mesothelial and soft tissue',\n",
       " 'C48': 'C45-C49 Malignant neoplasms of mesothelial and soft tissue',\n",
       " 'C49': 'C45-C49 Malignant neoplasms of mesothelial and soft tissue',\n",
       " 'C50': 'C50-C50 Malignant neoplasm of breast',\n",
       " 'C51': 'C51-C58 Malignant neoplasms of female genital organs',\n",
       " 'C52': 'C51-C58 Malignant neoplasms of female genital organs',\n",
       " 'C53': 'C51-C58 Malignant neoplasms of female genital organs',\n",
       " 'C54': 'C51-C58 Malignant neoplasms of female genital organs',\n",
       " 'C55': 'C51-C58 Malignant neoplasms of female genital organs',\n",
       " 'C56': 'C51-C58 Malignant neoplasms of female genital organs',\n",
       " 'C57': 'C51-C58 Malignant neoplasms of female genital organs',\n",
       " 'C58': 'C51-C58 Malignant neoplasms of female genital organs',\n",
       " 'C60': 'C60-C63 Malignant neoplasms of male genital organs',\n",
       " 'C61': 'C60-C63 Malignant neoplasms of male genital organs',\n",
       " 'C62': 'C60-C63 Malignant neoplasms of male genital organs',\n",
       " 'C63': 'C60-C63 Malignant neoplasms of male genital organs',\n",
       " 'C64': 'C64-C68 Malignant neoplasms of urinary tract',\n",
       " 'C65': 'C64-C68 Malignant neoplasms of urinary tract',\n",
       " 'C66': 'C64-C68 Malignant neoplasms of urinary tract',\n",
       " 'C67': 'C64-C68 Malignant neoplasms of urinary tract',\n",
       " 'C68': 'C64-C68 Malignant neoplasms of urinary tract',\n",
       " 'C69': 'C69-C72 Malignant neoplasms of eye, brain and other parts of central nervous system',\n",
       " 'C70': 'C69-C72 Malignant neoplasms of eye, brain and other parts of central nervous system',\n",
       " 'C71': 'C69-C72 Malignant neoplasms of eye, brain and other parts of central nervous system',\n",
       " 'C72': 'C69-C72 Malignant neoplasms of eye, brain and other parts of central nervous system',\n",
       " 'C73': 'C73-C75 Malignant neoplasms of thyroid and other endocrine glands',\n",
       " 'C74': 'C73-C75 Malignant neoplasms of thyroid and other endocrine glands',\n",
       " 'C75': 'C73-C75 Malignant neoplasms of thyroid and other endocrine glands',\n",
       " 'C76': 'C76-C80 Malignant neoplasms of ill-defined, secondary and unspecified sites',\n",
       " 'C77': 'C76-C80 Malignant neoplasms of ill-defined, secondary and unspecified sites',\n",
       " 'C78': 'C76-C80 Malignant neoplasms of ill-defined, secondary and unspecified sites',\n",
       " 'C79': 'C76-C80 Malignant neoplasms of ill-defined, secondary and unspecified sites',\n",
       " 'C80': 'C76-C80 Malignant neoplasms of ill-defined, secondary and unspecified sites',\n",
       " 'C81': 'C81-C96 Malignant neoplasms, stated or presumed to be primary, of lymphoid, haematopoietic and related tissue',\n",
       " 'C82': 'C81-C96 Malignant neoplasms, stated or presumed to be primary, of lymphoid, haematopoietic and related tissue',\n",
       " 'C83': 'C81-C96 Malignant neoplasms, stated or presumed to be primary, of lymphoid, haematopoietic and related tissue',\n",
       " 'C84': 'C81-C96 Malignant neoplasms, stated or presumed to be primary, of lymphoid, haematopoietic and related tissue',\n",
       " 'C85': 'C81-C96 Malignant neoplasms, stated or presumed to be primary, of lymphoid, haematopoietic and related tissue',\n",
       " 'C86': 'C81-C96 Malignant neoplasms, stated or presumed to be primary, of lymphoid, haematopoietic and related tissue',\n",
       " 'C87': 'C81-C96 Malignant neoplasms, stated or presumed to be primary, of lymphoid, haematopoietic and related tissue',\n",
       " 'C88': 'C81-C96 Malignant neoplasms, stated or presumed to be primary, of lymphoid, haematopoietic and related tissue',\n",
       " 'C89': 'C81-C96 Malignant neoplasms, stated or presumed to be primary, of lymphoid, haematopoietic and related tissue',\n",
       " 'C90': 'C81-C96 Malignant neoplasms, stated or presumed to be primary, of lymphoid, haematopoietic and related tissue',\n",
       " 'C91': 'C81-C96 Malignant neoplasms, stated or presumed to be primary, of lymphoid, haematopoietic and related tissue',\n",
       " 'C92': 'C81-C96 Malignant neoplasms, stated or presumed to be primary, of lymphoid, haematopoietic and related tissue',\n",
       " 'C93': 'C81-C96 Malignant neoplasms, stated or presumed to be primary, of lymphoid, haematopoietic and related tissue',\n",
       " 'C94': 'C81-C96 Malignant neoplasms, stated or presumed to be primary, of lymphoid, haematopoietic and related tissue',\n",
       " 'C95': 'C81-C96 Malignant neoplasms, stated or presumed to be primary, of lymphoid, haematopoietic and related tissue',\n",
       " 'C96': 'C81-C96 Malignant neoplasms, stated or presumed to be primary, of lymphoid, haematopoietic and related tissue',\n",
       " 'C97': 'C97-C97 Malignant neoplasms of independent (primary) multiple sites',\n",
       " 'D00': 'D00-D09 In situ neoplasms',\n",
       " 'D01': 'D00-D09 In situ neoplasms',\n",
       " 'D02': 'D00-D09 In situ neoplasms',\n",
       " 'D03': 'D00-D09 In situ neoplasms',\n",
       " 'D04': 'D00-D09 In situ neoplasms',\n",
       " 'D05': 'D00-D09 In situ neoplasms',\n",
       " 'D06': 'D00-D09 In situ neoplasms',\n",
       " 'D07': 'D00-D09 In situ neoplasms',\n",
       " 'D08': 'D00-D09 In situ neoplasms',\n",
       " 'D09': 'D00-D09 In situ neoplasms',\n",
       " 'D10': 'D10-D36 Benign neoplasms',\n",
       " 'D11': 'D10-D36 Benign neoplasms',\n",
       " 'D12': 'D10-D36 Benign neoplasms',\n",
       " 'D13': 'D10-D36 Benign neoplasms',\n",
       " 'D14': 'D10-D36 Benign neoplasms',\n",
       " 'D15': 'D10-D36 Benign neoplasms',\n",
       " 'D16': 'D10-D36 Benign neoplasms',\n",
       " 'D17': 'D10-D36 Benign neoplasms',\n",
       " 'D18': 'D10-D36 Benign neoplasms',\n",
       " 'D19': 'D10-D36 Benign neoplasms',\n",
       " 'D20': 'D10-D36 Benign neoplasms',\n",
       " 'D21': 'D10-D36 Benign neoplasms',\n",
       " 'D22': 'D10-D36 Benign neoplasms',\n",
       " 'D23': 'D10-D36 Benign neoplasms',\n",
       " 'D24': 'D10-D36 Benign neoplasms',\n",
       " 'D25': 'D10-D36 Benign neoplasms',\n",
       " 'D26': 'D10-D36 Benign neoplasms',\n",
       " 'D27': 'D10-D36 Benign neoplasms',\n",
       " 'D28': 'D10-D36 Benign neoplasms',\n",
       " 'D29': 'D10-D36 Benign neoplasms',\n",
       " 'D30': 'D10-D36 Benign neoplasms',\n",
       " 'D31': 'D10-D36 Benign neoplasms',\n",
       " 'D32': 'D10-D36 Benign neoplasms',\n",
       " 'D33': 'D10-D36 Benign neoplasms',\n",
       " 'D34': 'D10-D36 Benign neoplasms',\n",
       " 'D35': 'D10-D36 Benign neoplasms',\n",
       " 'D36': 'D10-D36 Benign neoplasms',\n",
       " 'D37': 'D37-D48 Neoplasms of uncertain or unknown behaviour',\n",
       " 'D38': 'D37-D48 Neoplasms of uncertain or unknown behaviour',\n",
       " 'D39': 'D37-D48 Neoplasms of uncertain or unknown behaviour',\n",
       " 'D40': 'D37-D48 Neoplasms of uncertain or unknown behaviour',\n",
       " 'D41': 'D37-D48 Neoplasms of uncertain or unknown behaviour',\n",
       " 'D42': 'D37-D48 Neoplasms of uncertain or unknown behaviour',\n",
       " 'D43': 'D37-D48 Neoplasms of uncertain or unknown behaviour',\n",
       " 'D44': 'D37-D48 Neoplasms of uncertain or unknown behaviour',\n",
       " 'D45': 'D37-D48 Neoplasms of uncertain or unknown behaviour',\n",
       " 'D46': 'D37-D48 Neoplasms of uncertain or unknown behaviour',\n",
       " 'D47': 'D37-D48 Neoplasms of uncertain or unknown behaviour',\n",
       " 'D48': 'D37-D48 Neoplasms of uncertain or unknown behaviour',\n",
       " 'O00': 'O00-O08 Pregnancy with abortive outcome',\n",
       " 'O01': 'O00-O08 Pregnancy with abortive outcome',\n",
       " 'O02': 'O00-O08 Pregnancy with abortive outcome',\n",
       " 'O03': 'O00-O08 Pregnancy with abortive outcome',\n",
       " 'O04': 'O00-O08 Pregnancy with abortive outcome',\n",
       " 'O05': 'O00-O08 Pregnancy with abortive outcome',\n",
       " 'O06': 'O00-O08 Pregnancy with abortive outcome',\n",
       " 'O07': 'O00-O08 Pregnancy with abortive outcome',\n",
       " 'O08': 'O00-O08 Pregnancy with abortive outcome'}"
      ]
     },
     "execution_count": 48,
     "metadata": {},
     "output_type": "execute_result"
    }
   ],
   "source": [
    "cancer_class = {k[0] + f\"{i:02}\": k for k in foo.split(\"\\t\") for i in range(int(k[1:3]), 1+int(k[5:7]))}\n",
    "cancer_class"
   ]
  },
  {
   "cell_type": "code",
   "execution_count": null,
   "id": "a4f258b8-3b63-4213-abcb-6b06a06d9177",
   "metadata": {},
   "outputs": [],
   "source": []
  },
  {
   "cell_type": "code",
   "execution_count": 49,
   "id": "e75cc52e-77d6-4213-9d36-e6dcf01d086b",
   "metadata": {
    "tags": []
   },
   "outputs": [
    {
     "data": {
      "text/plain": [
       "235432.95"
      ]
     },
     "execution_count": 49,
     "metadata": {},
     "output_type": "execute_result"
    }
   ],
   "source": [
    "sum(train_val_split)/20"
   ]
  },
  {
   "cell_type": "code",
   "execution_count": null,
   "id": "2022de2e-8c1a-4591-b3fd-193c4aff8a64",
   "metadata": {},
   "outputs": [],
   "source": []
  }
 ],
 "metadata": {
  "kernelspec": {
   "display_name": "Python 3 (ipykernel)",
   "language": "python",
   "name": "python3"
  },
  "language_info": {
   "codemirror_mode": {
    "name": "ipython",
    "version": 3
   },
   "file_extension": ".py",
   "mimetype": "text/x-python",
   "name": "python",
   "nbconvert_exporter": "python",
   "pygments_lexer": "ipython3",
   "version": "3.10.10"
  }
 },
 "nbformat": 4,
 "nbformat_minor": 5
}
